{
  "cells": [
    {
      "cell_type": "markdown",
      "metadata": {
        "id": "CpfJk3MdENI6"
      },
      "source": [
        "---\n",
        "\n",
        "<div align='center'>\n",
        "<br>\n",
        "<h1> Deepfake using Roop </h1>\n",
        "<a><img src=\"https://hits.seeyoufarm.com/api/count/incr/badge.svg?url=https%3A%2F%2Fcolab.research.google.com%2Fdrive%2F1yD6K6XOQp7g258ooz9IeYfXTsqm2UDvJ&count_bg=%2379C83D&title_bg=%23555555&icon=&icon_color=%23E7E7E7&title=Daily+Views+%2F+Total+Views&edge_flat=false\"/></a>\n",
        "<br>\n",
        "</div>\n",
        "\n",
        "---\n",
        "\n",
        "\n",
        "* Click on the `Connect` on right-top side of the browser.\n",
        "\n",
        "</div>"
      ]
    },
    {
      "cell_type": "code",
      "execution_count": null,
      "metadata": {
        "id": "r-2OOsZ_bcM8",
        "cellView": "form"
      },
      "outputs": [],
      "source": [
        "#@title # Connect Google Drive\n",
        "#@markdown <-- Click This\n",
        "\n",
        "from google.colab import drive\n",
        "drive.mount('/content/drive')"
      ]
    },
    {
      "cell_type": "code",
      "execution_count": null,
      "metadata": {
        "id": "t1yPuhdySqCq",
        "cellView": "form"
      },
      "outputs": [],
      "source": [
        "#@title # Installation\n",
        "#@markdown <-- Click This\n",
        "\n",
        "#@markdown It is not necessary to click on all the play button.\n",
        "\n",
        "#@markdown It will install all the necessary requirements.\n",
        "\n",
        "!pip install ffmpeg\n",
        "!pip install gfpgan\n",
        "!pip install opennsfw2\n",
        "!pip install insightface==0.7.3\n",
        "!pip install customtkinter==5.2.0\n",
        "!git clone https://github.com/GosuDRM/nsfw-roop\n",
        "\n",
        "!pip uninstall onnxruntime onnxruntime-gpu\n",
        "!pip install onnxruntime-gpu==1.15.1\n",
        "%cd /content/nsfw-roop\n",
        "!pip install -r requirements.txt\n",
        "%cd /content/nsfw-roop/models\n",
        "!wget https://huggingface.co/th2w33knd/inswapper_128.onnx/resolve/main/inswapper_128.onnx\n",
        "!wget https://huggingface.co/th2w33knd/GFPGANv1.4/resolve/main/GFPGANv1.4.pth"
      ]
    },
    {
      "cell_type": "markdown",
      "metadata": {
        "id": "Jul-_i9xMmV2"
      },
      "source": [
        "**You will see processing message at the end of below printed messages e.g. Processing:  43% 136/318 00:38<00:24, 7.47frame/s**"
      ]
    },
    {
      "cell_type": "code",
      "execution_count": null,
      "metadata": {
        "id": "nBq1nKgEh84X",
        "cellView": "form"
      },
      "outputs": [],
      "source": [
        "#@title # Convert\n",
        "#@markdown <-- Click This\n",
        "source_input  = '/content/drive/MyDrive/Stable_Diff_Outputs/video.mp4' #@param {type:\"string\"}\n",
        "source_output = '/content/drive/MyDrive/Stable_Diff_Outputs/gif.gif' #@param {type:\"string\"}\n",
        "!ffmpeg -i $source_input $source_output"
      ]
    },
    {
      "cell_type": "code",
      "execution_count": null,
      "metadata": {
        "colab": {
          "background_save": true
        },
        "id": "Is6U2huqSzLE",
        "cellView": "form"
      },
      "outputs": [],
      "source": [
        "#@title  # For Single Videos/Images\n",
        "\n",
        "%cd \"/content/nsfw-roop\"\n",
        "\n",
        "#@markdown ### Enter path to your Videos Folder in GDrive:\n",
        "INPUT = '/content/drive/MyDrive/Stable_Diff_Outputs/inputvideo.mp4' #@param {type:\"string\"}\n",
        "\n",
        "#@markdown ### Enter Path Where You Want to Save Videos in GDrive:\n",
        "OUTPUT = '/content/drive/MyDrive/Stable_Diff_Outputs/output.mp4' #@param {type:\"string\"}\n",
        "\n",
        "#@markdown ### Enter Path to Face:\n",
        "face = '/content/drive/MyDrive/Stable_Diff_Outputs/face.jpg' #@param {type:\"string\"}\n",
        "\n",
        "input_text = \"\\n\\nNow Processing :\\n\"\n",
        "output_text= \"\\nSaved to :\"\n",
        "\n",
        "# print (input_text + f\"{INPUT}\" + f\"\\n...Running...\")\n",
        "!python run.py -s $face -t $INPUT -o $OUTPUT --keep-fps --video-quality 7 --execution-provider cuda --frame-processor face_swapper face_enhancer --max-memory 14 --execution-threads 6\n",
        "\n",
        "\n",
        "# !python run.py -s $face -t $INPUT -o $OUTPUT --keep-frames --keep-fps --video-quality 7 --execution-provider cuda --frame-processor face_swapper face_enhancer --max-memory 14 --execution-threads 6"
      ]
    },
    {
      "cell_type": "code",
      "execution_count": null,
      "metadata": {
        "cellView": "form",
        "id": "yxjtZ5wXhxf1"
      },
      "outputs": [],
      "source": [
        "#@title # Connect to Google Drive\n",
        "from google.colab import drive\n",
        "drive.mount('/content/drive')"
      ]
    },
    {
      "cell_type": "code",
      "execution_count": null,
      "metadata": {
        "id": "ZPwC_U1fvUv7",
        "cellView": "form"
      },
      "outputs": [],
      "source": [
        "#@title For Multiple Videos\n",
        "\n",
        "%cd \"/content/nsfw-roop\"\n",
        "# !ffmpeg -i 01.webm 01.mp4\n",
        "# !python run.py -s \"k.jpg\" -t \"/content/drive/MyDrive/Testing/Input\" -o \"/content/drive/MyDrive/Testing/Outputs\" --keep-frames --keep-fps --video-quality 7 --execution-provider cuda --frame-processor face_swapper face_enhancer --max-memory 14 --execution-threads 10\n",
        "\n",
        "#@markdown ### Enter Starting Video Number:\n",
        "#@markdown Your list of videos should start from 01.mp4, then 02.mp4, 03.mp4, 04.mp4....\n",
        "start = '1' #@param {type:\"string\"}\n",
        "start = int(start)\n",
        "\n",
        "\n",
        "#@markdown ### Enter Ending Video Number:\n",
        "end = '100' #@param {type:\"string\"}\n",
        "end = int(end)\n",
        "\n",
        "#@markdown ### Enter path to your Videos Folder in GDrive:\n",
        "inputpath = '/content/drive/MyDrive/Video/Input/' #@param {type:\"string\"}\n",
        "\n",
        "#@markdown ### Enter Path Where You Want to Save Videos in GDrive:\n",
        "outputpath = '/content/drive/MyDrive/Video/Output/' #@param {type:\"string\"}\n",
        "\n",
        "#@markdown ### Extension of your videos:\n",
        "ext = 'webm' #@param {type:\"string\"}\n",
        "\n",
        "#@markdown ### Enter Path to Face:\n",
        "face = '/content/drive/MyDrive/Images/Face/face.jpg' #@param {type:\"string\"}\n",
        "\n",
        "\n",
        "input_text = \"\\n\\nNow Processing :\\n\"\n",
        "output_text= \"\\nSaved to :\"\n",
        "for i in range(start,end+1):\n",
        "  num = i\n",
        "  if (i<=9):\n",
        "    INPUT = (inputpath + f\"/0{num}.{ext}\")\n",
        "    OUTPUT= (outputpath + f\"/0{num}.mp4\")\n",
        "\n",
        "    # print (input_text + f\"{INPUT}\" + f\"\\n...Running...\")\n",
        "    !python run.py -s $face -t $INPUT -o $OUTPUT --keep-fps --video-quality 7 --execution-provider cuda --frame-processor face_swapper face_enhancer --max-memory 14 --execution-threads 6\n",
        "    # !python run.py -s $face -t $INPUT -o $OUTPUT --keep-frames --keep-fps --video-quality 7 --execution-provider cuda --frame-processor face_swapper face_enhancer --max-memory 14 --execution-threads 6\n",
        "\n",
        "  else:\n",
        "    INPUT = (inputpath + f\"/{num}.{ext}\")\n",
        "    OUTPUT= (outputpath + f\"/{num}.mp4\")\n",
        "\n",
        "    # print (input_text + inputpath + f\"/{num}.mp4\" + f\"\\n...Running...\")\n",
        "    !python run.py -s $face -t $INPUT -o $OUTPUT --keep-frames --keep-fps --video-quality 7 --execution-provider cuda --frame-processor face_swapper face_enhancer --max-memory 14 --execution-threads 6\n",
        "    # !python run.py -s $face -t $INPUT -o $OUTPUT --keep-frames --keep-fps --video-quality 7 --execution-provider cuda --frame-processor face_swapper face_enhancer --max-memory 14 --execution-threads 6"
      ]
    },
    {
      "cell_type": "markdown",
      "metadata": {
        "id": "G9BdiCppV6AS"
      },
      "source": [
        "---\n",
        "\n",
        "#Video tutorial link"
      ]
    },
    {
      "cell_type": "markdown",
      "metadata": {
        "id": "dLqClBsFET_f"
      },
      "source": [
        "> https://youtu.be/OI1LEN-SgLM\n",
        "\n",
        "GitHub instructions : https://github.com/FurkanGozukara/Stable-Diffusion/blob/main/Tutorials/1-Click-DeepFake-Tutorial.md\n",
        "\n"
      ]
    },
    {
      "cell_type": "markdown",
      "metadata": {
        "id": "cOH6Z8p9a69T"
      },
      "source": [
        "---\n",
        "\n",
        "# Downloading Frames\n",
        "\n",
        "---"
      ]
    },
    {
      "cell_type": "markdown",
      "metadata": {
        "id": "TQR3b657CtCJ"
      },
      "source": [
        "If you want to download the frames of generated videos. Your generated frames are in `/content/nsfw-roop/temp`."
      ]
    },
    {
      "cell_type": "code",
      "execution_count": null,
      "metadata": {
        "id": "oYjWveAmw10X"
      },
      "outputs": [],
      "source": [
        "import shutil\n",
        "import os\n",
        "from google.colab import files\n",
        "\n",
        "def zip_directory(directory_path, zip_path):\n",
        "    shutil.make_archive(zip_path, 'zip', directory_path)\n",
        "\n",
        "# Set the directory path you want to download\n",
        "directory_path = '/content/nsfw-roop/video3'\n",
        "\n",
        "# Set the zip file name\n",
        "zip_filename = 'video3.zip'\n",
        "\n",
        "# Zip the directory\n",
        "zip_directory(directory_path, zip_filename)\n",
        "\n",
        "# Download the zip file\n",
        "files.download(zip_filename+'.zip')\n"
      ]
    },
    {
      "cell_type": "markdown",
      "metadata": {
        "id": "Pe-FO0YeJn3w"
      },
      "source": [
        "Last updated on : Thrusday, 13 July 2023"
      ]
    }
  ],
  "metadata": {
    "accelerator": "GPU",
    "colab": {
      "collapsed_sections": [
        "G9BdiCppV6AS",
        "cOH6Z8p9a69T"
      ],
      "provenance": []
    },
    "kernelspec": {
      "display_name": "Python 3",
      "name": "python3"
    },
    "language_info": {
      "name": "python"
    }
  },
  "nbformat": 4,
  "nbformat_minor": 0
}